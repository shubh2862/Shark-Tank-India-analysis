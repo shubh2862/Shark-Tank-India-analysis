{
 "cells": [
  {
   "cell_type": "code",
   "execution_count": 1,
   "id": "10f67fa4",
   "metadata": {},
   "outputs": [],
   "source": [
    "import numpy as np\n",
    "import pandas as pd\n",
    "import matplotlib.pyplot as plt\n",
    "import seaborn as sns\n",
    "import warnings\n",
    "warnings.filterwarnings('ignore')"
   ]
  },
  {
   "cell_type": "markdown",
   "id": "a730bc23",
   "metadata": {},
   "source": [
    "loading dataset\n"
   ]
  },
  {
   "cell_type": "code",
   "execution_count": 2,
   "id": "d5a3adb3",
   "metadata": {},
   "outputs": [],
   "source": [
    "data = pd.read_csv(\"Shark_Tank.csv\")"
   ]
  },
  {
   "cell_type": "code",
   "execution_count": 3,
   "id": "a15d4f8e",
   "metadata": {},
   "outputs": [
    {
     "data": {
      "text/html": [
       "<div>\n",
       "<style scoped>\n",
       "    .dataframe tbody tr th:only-of-type {\n",
       "        vertical-align: middle;\n",
       "    }\n",
       "\n",
       "    .dataframe tbody tr th {\n",
       "        vertical-align: top;\n",
       "    }\n",
       "\n",
       "    .dataframe thead th {\n",
       "        text-align: right;\n",
       "    }\n",
       "</style>\n",
       "<table border=\"1\" class=\"dataframe\">\n",
       "  <thead>\n",
       "    <tr style=\"text-align: right;\">\n",
       "      <th></th>\n",
       "      <th>episode_number</th>\n",
       "      <th>startup_number</th>\n",
       "      <th>brand_name</th>\n",
       "      <th>description</th>\n",
       "      <th>deal_offered</th>\n",
       "      <th>startup_ask_amount_lakhs</th>\n",
       "      <th>startup_ask_percentage</th>\n",
       "      <th>startup_ask_valuation</th>\n",
       "      <th>deal_amount_lakhs</th>\n",
       "      <th>deal_equity</th>\n",
       "      <th>...</th>\n",
       "      <th>ghazal_invested</th>\n",
       "      <th>namita_present</th>\n",
       "      <th>namita_invested</th>\n",
       "      <th>peyush_present</th>\n",
       "      <th>peyush_invested</th>\n",
       "      <th>vineeta_present</th>\n",
       "      <th>vineeta_invested</th>\n",
       "      <th>sharks_offering</th>\n",
       "      <th>amount_per_shark</th>\n",
       "      <th>equity_per_shark</th>\n",
       "    </tr>\n",
       "  </thead>\n",
       "  <tbody>\n",
       "    <tr>\n",
       "      <th>0</th>\n",
       "      <td>1</td>\n",
       "      <td>1</td>\n",
       "      <td>BluePine Industries</td>\n",
       "      <td>Frozen Momos</td>\n",
       "      <td>1</td>\n",
       "      <td>50.0</td>\n",
       "      <td>5.0</td>\n",
       "      <td>1000.00</td>\n",
       "      <td>75.0</td>\n",
       "      <td>16.00</td>\n",
       "      <td>...</td>\n",
       "      <td>0</td>\n",
       "      <td>1</td>\n",
       "      <td>0</td>\n",
       "      <td>0</td>\n",
       "      <td>0</td>\n",
       "      <td>1</td>\n",
       "      <td>1</td>\n",
       "      <td>3</td>\n",
       "      <td>25.0</td>\n",
       "      <td>5.333333</td>\n",
       "    </tr>\n",
       "    <tr>\n",
       "      <th>1</th>\n",
       "      <td>1</td>\n",
       "      <td>2</td>\n",
       "      <td>Booz scooters</td>\n",
       "      <td>Renting e-bike for mobility in private spaces</td>\n",
       "      <td>1</td>\n",
       "      <td>40.0</td>\n",
       "      <td>15.0</td>\n",
       "      <td>266.67</td>\n",
       "      <td>40.0</td>\n",
       "      <td>50.00</td>\n",
       "      <td>...</td>\n",
       "      <td>0</td>\n",
       "      <td>1</td>\n",
       "      <td>0</td>\n",
       "      <td>0</td>\n",
       "      <td>0</td>\n",
       "      <td>1</td>\n",
       "      <td>1</td>\n",
       "      <td>2</td>\n",
       "      <td>20.0</td>\n",
       "      <td>25.000000</td>\n",
       "    </tr>\n",
       "    <tr>\n",
       "      <th>2</th>\n",
       "      <td>1</td>\n",
       "      <td>3</td>\n",
       "      <td>Heart up my Sleeves</td>\n",
       "      <td>Detachable Sleeves</td>\n",
       "      <td>1</td>\n",
       "      <td>25.0</td>\n",
       "      <td>10.0</td>\n",
       "      <td>250.00</td>\n",
       "      <td>25.0</td>\n",
       "      <td>30.00</td>\n",
       "      <td>...</td>\n",
       "      <td>0</td>\n",
       "      <td>1</td>\n",
       "      <td>0</td>\n",
       "      <td>0</td>\n",
       "      <td>0</td>\n",
       "      <td>1</td>\n",
       "      <td>1</td>\n",
       "      <td>2</td>\n",
       "      <td>12.5</td>\n",
       "      <td>15.000000</td>\n",
       "    </tr>\n",
       "    <tr>\n",
       "      <th>3</th>\n",
       "      <td>2</td>\n",
       "      <td>4</td>\n",
       "      <td>Tagz Foods</td>\n",
       "      <td>Healthy Potato Chips</td>\n",
       "      <td>1</td>\n",
       "      <td>70.0</td>\n",
       "      <td>1.0</td>\n",
       "      <td>7000.00</td>\n",
       "      <td>70.0</td>\n",
       "      <td>2.75</td>\n",
       "      <td>...</td>\n",
       "      <td>0</td>\n",
       "      <td>1</td>\n",
       "      <td>0</td>\n",
       "      <td>0</td>\n",
       "      <td>0</td>\n",
       "      <td>1</td>\n",
       "      <td>0</td>\n",
       "      <td>1</td>\n",
       "      <td>70.0</td>\n",
       "      <td>2.750000</td>\n",
       "    </tr>\n",
       "    <tr>\n",
       "      <th>4</th>\n",
       "      <td>2</td>\n",
       "      <td>5</td>\n",
       "      <td>Head and Heart</td>\n",
       "      <td>Brain Development Course</td>\n",
       "      <td>0</td>\n",
       "      <td>50.0</td>\n",
       "      <td>5.0</td>\n",
       "      <td>1000.00</td>\n",
       "      <td>0.0</td>\n",
       "      <td>0.00</td>\n",
       "      <td>...</td>\n",
       "      <td>0</td>\n",
       "      <td>1</td>\n",
       "      <td>0</td>\n",
       "      <td>0</td>\n",
       "      <td>0</td>\n",
       "      <td>1</td>\n",
       "      <td>0</td>\n",
       "      <td>0</td>\n",
       "      <td>0.0</td>\n",
       "      <td>0.000000</td>\n",
       "    </tr>\n",
       "  </tbody>\n",
       "</table>\n",
       "<p>5 rows × 32 columns</p>\n",
       "</div>"
      ],
      "text/plain": [
       "   episode_number  startup_number           brand_name  \\\n",
       "0               1               1  BluePine Industries   \n",
       "1               1               2        Booz scooters   \n",
       "2               1               3  Heart up my Sleeves   \n",
       "3               2               4           Tagz Foods   \n",
       "4               2               5       Head and Heart   \n",
       "\n",
       "                                     description  deal_offered  \\\n",
       "0                                   Frozen Momos             1   \n",
       "1  Renting e-bike for mobility in private spaces             1   \n",
       "2                             Detachable Sleeves             1   \n",
       "3                           Healthy Potato Chips             1   \n",
       "4                       Brain Development Course             0   \n",
       "\n",
       "   startup_ask_amount_lakhs  startup_ask_percentage  startup_ask_valuation  \\\n",
       "0                      50.0                     5.0                1000.00   \n",
       "1                      40.0                    15.0                 266.67   \n",
       "2                      25.0                    10.0                 250.00   \n",
       "3                      70.0                     1.0                7000.00   \n",
       "4                      50.0                     5.0                1000.00   \n",
       "\n",
       "   deal_amount_lakhs  deal_equity  ...  ghazal_invested  namita_present  \\\n",
       "0               75.0        16.00  ...                0               1   \n",
       "1               40.0        50.00  ...                0               1   \n",
       "2               25.0        30.00  ...                0               1   \n",
       "3               70.0         2.75  ...                0               1   \n",
       "4                0.0         0.00  ...                0               1   \n",
       "\n",
       "   namita_invested  peyush_present  peyush_invested  vineeta_present  \\\n",
       "0                0               0                0                1   \n",
       "1                0               0                0                1   \n",
       "2                0               0                0                1   \n",
       "3                0               0                0                1   \n",
       "4                0               0                0                1   \n",
       "\n",
       "   vineeta_invested  sharks_offering  amount_per_shark  equity_per_shark  \n",
       "0                 1                3              25.0          5.333333  \n",
       "1                 1                2              20.0         25.000000  \n",
       "2                 1                2              12.5         15.000000  \n",
       "3                 0                1              70.0          2.750000  \n",
       "4                 0                0               0.0          0.000000  \n",
       "\n",
       "[5 rows x 32 columns]"
      ]
     },
     "execution_count": 3,
     "metadata": {},
     "output_type": "execute_result"
    }
   ],
   "source": [
    "data.head()\n"
   ]
  },
  {
   "cell_type": "code",
   "execution_count": 4,
   "id": "9fc98787",
   "metadata": {},
   "outputs": [
    {
     "data": {
      "text/html": [
       "<div>\n",
       "<style scoped>\n",
       "    .dataframe tbody tr th:only-of-type {\n",
       "        vertical-align: middle;\n",
       "    }\n",
       "\n",
       "    .dataframe tbody tr th {\n",
       "        vertical-align: top;\n",
       "    }\n",
       "\n",
       "    .dataframe thead th {\n",
       "        text-align: right;\n",
       "    }\n",
       "</style>\n",
       "<table border=\"1\" class=\"dataframe\">\n",
       "  <thead>\n",
       "    <tr style=\"text-align: right;\">\n",
       "      <th></th>\n",
       "      <th>episode_number</th>\n",
       "      <th>startup_number</th>\n",
       "      <th>brand_name</th>\n",
       "      <th>description</th>\n",
       "      <th>deal_offered</th>\n",
       "      <th>startup_ask_amount_lakhs</th>\n",
       "      <th>startup_ask_percentage</th>\n",
       "      <th>startup_ask_valuation</th>\n",
       "      <th>deal_amount_lakhs</th>\n",
       "      <th>deal_equity</th>\n",
       "      <th>...</th>\n",
       "      <th>ghazal_invested</th>\n",
       "      <th>namita_present</th>\n",
       "      <th>namita_invested</th>\n",
       "      <th>peyush_present</th>\n",
       "      <th>peyush_invested</th>\n",
       "      <th>vineeta_present</th>\n",
       "      <th>vineeta_invested</th>\n",
       "      <th>sharks_offering</th>\n",
       "      <th>amount_per_shark</th>\n",
       "      <th>equity_per_shark</th>\n",
       "    </tr>\n",
       "  </thead>\n",
       "  <tbody>\n",
       "    <tr>\n",
       "      <th>116</th>\n",
       "      <td>35</td>\n",
       "      <td>117</td>\n",
       "      <td>Elcare India</td>\n",
       "      <td>Carenting for Elders</td>\n",
       "      <td>0</td>\n",
       "      <td>100.0</td>\n",
       "      <td>2.50</td>\n",
       "      <td>4000.0</td>\n",
       "      <td>0.0</td>\n",
       "      <td>0.0</td>\n",
       "      <td>...</td>\n",
       "      <td>0</td>\n",
       "      <td>1</td>\n",
       "      <td>0</td>\n",
       "      <td>1</td>\n",
       "      <td>0</td>\n",
       "      <td>1</td>\n",
       "      <td>0</td>\n",
       "      <td>0</td>\n",
       "      <td>0.0</td>\n",
       "      <td>0.0</td>\n",
       "    </tr>\n",
       "    <tr>\n",
       "      <th>117</th>\n",
       "      <td>36</td>\n",
       "      <td>118</td>\n",
       "      <td>Sneakare</td>\n",
       "      <td>Shoe care and storage solutions</td>\n",
       "      <td>1</td>\n",
       "      <td>20.0</td>\n",
       "      <td>5.00</td>\n",
       "      <td>400.0</td>\n",
       "      <td>21.0</td>\n",
       "      <td>12.0</td>\n",
       "      <td>...</td>\n",
       "      <td>0</td>\n",
       "      <td>1</td>\n",
       "      <td>1</td>\n",
       "      <td>1</td>\n",
       "      <td>0</td>\n",
       "      <td>1</td>\n",
       "      <td>1</td>\n",
       "      <td>3</td>\n",
       "      <td>7.0</td>\n",
       "      <td>4.0</td>\n",
       "    </tr>\n",
       "    <tr>\n",
       "      <th>118</th>\n",
       "      <td>36</td>\n",
       "      <td>119</td>\n",
       "      <td>French Crown</td>\n",
       "      <td>Clothing Industry</td>\n",
       "      <td>0</td>\n",
       "      <td>150.0</td>\n",
       "      <td>0.33</td>\n",
       "      <td>45000.0</td>\n",
       "      <td>0.0</td>\n",
       "      <td>0.0</td>\n",
       "      <td>...</td>\n",
       "      <td>0</td>\n",
       "      <td>1</td>\n",
       "      <td>0</td>\n",
       "      <td>1</td>\n",
       "      <td>0</td>\n",
       "      <td>1</td>\n",
       "      <td>0</td>\n",
       "      <td>0</td>\n",
       "      <td>0.0</td>\n",
       "      <td>0.0</td>\n",
       "    </tr>\n",
       "    <tr>\n",
       "      <th>119</th>\n",
       "      <td>36</td>\n",
       "      <td>120</td>\n",
       "      <td>Store My Goods</td>\n",
       "      <td>Storage solutions</td>\n",
       "      <td>1</td>\n",
       "      <td>100.0</td>\n",
       "      <td>1.75</td>\n",
       "      <td>5714.0</td>\n",
       "      <td>100.0</td>\n",
       "      <td>4.0</td>\n",
       "      <td>...</td>\n",
       "      <td>0</td>\n",
       "      <td>1</td>\n",
       "      <td>1</td>\n",
       "      <td>1</td>\n",
       "      <td>1</td>\n",
       "      <td>1</td>\n",
       "      <td>0</td>\n",
       "      <td>2</td>\n",
       "      <td>50.0</td>\n",
       "      <td>2.0</td>\n",
       "    </tr>\n",
       "    <tr>\n",
       "      <th>120</th>\n",
       "      <td>36</td>\n",
       "      <td>121</td>\n",
       "      <td>Devnagri</td>\n",
       "      <td>Translation platform</td>\n",
       "      <td>0</td>\n",
       "      <td>100.0</td>\n",
       "      <td>1.00</td>\n",
       "      <td>10000.0</td>\n",
       "      <td>0.0</td>\n",
       "      <td>0.0</td>\n",
       "      <td>...</td>\n",
       "      <td>0</td>\n",
       "      <td>1</td>\n",
       "      <td>0</td>\n",
       "      <td>1</td>\n",
       "      <td>0</td>\n",
       "      <td>1</td>\n",
       "      <td>0</td>\n",
       "      <td>0</td>\n",
       "      <td>0.0</td>\n",
       "      <td>0.0</td>\n",
       "    </tr>\n",
       "  </tbody>\n",
       "</table>\n",
       "<p>5 rows × 32 columns</p>\n",
       "</div>"
      ],
      "text/plain": [
       "     episode_number  startup_number      brand_name  \\\n",
       "116              35             117    Elcare India   \n",
       "117              36             118        Sneakare   \n",
       "118              36             119    French Crown   \n",
       "119              36             120  Store My Goods   \n",
       "120              36             121        Devnagri   \n",
       "\n",
       "                         description  deal_offered  startup_ask_amount_lakhs  \\\n",
       "116             Carenting for Elders             0                     100.0   \n",
       "117  Shoe care and storage solutions             1                      20.0   \n",
       "118                Clothing Industry             0                     150.0   \n",
       "119                Storage solutions             1                     100.0   \n",
       "120             Translation platform             0                     100.0   \n",
       "\n",
       "     startup_ask_percentage  startup_ask_valuation  deal_amount_lakhs  \\\n",
       "116                    2.50                 4000.0                0.0   \n",
       "117                    5.00                  400.0               21.0   \n",
       "118                    0.33                45000.0                0.0   \n",
       "119                    1.75                 5714.0              100.0   \n",
       "120                    1.00                10000.0                0.0   \n",
       "\n",
       "     deal_equity  ...  ghazal_invested  namita_present  namita_invested  \\\n",
       "116          0.0  ...                0               1                0   \n",
       "117         12.0  ...                0               1                1   \n",
       "118          0.0  ...                0               1                0   \n",
       "119          4.0  ...                0               1                1   \n",
       "120          0.0  ...                0               1                0   \n",
       "\n",
       "     peyush_present  peyush_invested  vineeta_present  vineeta_invested  \\\n",
       "116               1                0                1                 0   \n",
       "117               1                0                1                 1   \n",
       "118               1                0                1                 0   \n",
       "119               1                1                1                 0   \n",
       "120               1                0                1                 0   \n",
       "\n",
       "     sharks_offering  amount_per_shark  equity_per_shark  \n",
       "116                0               0.0               0.0  \n",
       "117                3               7.0               4.0  \n",
       "118                0               0.0               0.0  \n",
       "119                2              50.0               2.0  \n",
       "120                0               0.0               0.0  \n",
       "\n",
       "[5 rows x 32 columns]"
      ]
     },
     "execution_count": 4,
     "metadata": {},
     "output_type": "execute_result"
    }
   ],
   "source": [
    "data.tail()"
   ]
  },
  {
   "cell_type": "code",
   "execution_count": 5,
   "id": "ee91bb39",
   "metadata": {},
   "outputs": [
    {
     "data": {
      "text/plain": [
       "(121, 32)"
      ]
     },
     "execution_count": 5,
     "metadata": {},
     "output_type": "execute_result"
    }
   ],
   "source": [
    "data.shape"
   ]
  },
  {
   "cell_type": "code",
   "execution_count": 6,
   "id": "f956e7b4",
   "metadata": {},
   "outputs": [
    {
     "data": {
      "text/plain": [
       "Index(['episode_number', 'startup_number', 'brand_name', 'description',\n",
       "       'deal_offered', 'startup_ask_amount_lakhs', 'startup_ask_percentage',\n",
       "       'startup_ask_valuation', 'deal_amount_lakhs', 'deal_equity',\n",
       "       'deal_valuation', 'loan_element_present', 'loan_amount',\n",
       "       'rannvijay_present', 'abish_present', 'aman_present', 'aman_invested',\n",
       "       'anupam_present', 'anupam_invested', 'ashneer_present',\n",
       "       'ashneer_invested', 'ghazal_present', 'ghazal_invested',\n",
       "       'namita_present', 'namita_invested', 'peyush_present',\n",
       "       'peyush_invested', 'vineeta_present', 'vineeta_invested',\n",
       "       'sharks_offering', 'amount_per_shark', 'equity_per_shark'],\n",
       "      dtype='object')"
      ]
     },
     "execution_count": 6,
     "metadata": {},
     "output_type": "execute_result"
    }
   ],
   "source": [
    "data.columns"
   ]
  },
  {
   "cell_type": "code",
   "execution_count": 7,
   "id": "66961779",
   "metadata": {},
   "outputs": [
    {
     "name": "stdout",
     "output_type": "stream",
     "text": [
      "<class 'pandas.core.frame.DataFrame'>\n",
      "RangeIndex: 121 entries, 0 to 120\n",
      "Data columns (total 32 columns):\n",
      " #   Column                    Non-Null Count  Dtype  \n",
      "---  ------                    --------------  -----  \n",
      " 0   episode_number            121 non-null    int64  \n",
      " 1   startup_number            121 non-null    int64  \n",
      " 2   brand_name                121 non-null    object \n",
      " 3   description               121 non-null    object \n",
      " 4   deal_offered              121 non-null    int64  \n",
      " 5   startup_ask_amount_lakhs  121 non-null    float64\n",
      " 6   startup_ask_percentage    121 non-null    float64\n",
      " 7   startup_ask_valuation     121 non-null    float64\n",
      " 8   deal_amount_lakhs         121 non-null    float64\n",
      " 9   deal_equity               121 non-null    float64\n",
      " 10  deal_valuation            121 non-null    float64\n",
      " 11  loan_element_present      121 non-null    int64  \n",
      " 12  loan_amount               121 non-null    int64  \n",
      " 13  rannvijay_present         121 non-null    int64  \n",
      " 14  abish_present             121 non-null    int64  \n",
      " 15  aman_present              121 non-null    int64  \n",
      " 16  aman_invested             121 non-null    int64  \n",
      " 17  anupam_present            121 non-null    int64  \n",
      " 18  anupam_invested           121 non-null    int64  \n",
      " 19  ashneer_present           121 non-null    int64  \n",
      " 20  ashneer_invested          121 non-null    int64  \n",
      " 21  ghazal_present            121 non-null    int64  \n",
      " 22  ghazal_invested           121 non-null    int64  \n",
      " 23  namita_present            121 non-null    int64  \n",
      " 24  namita_invested           121 non-null    int64  \n",
      " 25  peyush_present            121 non-null    int64  \n",
      " 26  peyush_invested           121 non-null    int64  \n",
      " 27  vineeta_present           121 non-null    int64  \n",
      " 28  vineeta_invested          121 non-null    int64  \n",
      " 29  sharks_offering           121 non-null    int64  \n",
      " 30  amount_per_shark          121 non-null    float64\n",
      " 31  equity_per_shark          121 non-null    float64\n",
      "dtypes: float64(8), int64(22), object(2)\n",
      "memory usage: 30.4+ KB\n"
     ]
    }
   ],
   "source": [
    "data.info()"
   ]
  },
  {
   "cell_type": "code",
   "execution_count": 8,
   "id": "79dd0f3e",
   "metadata": {},
   "outputs": [
    {
     "data": {
      "text/html": [
       "<div>\n",
       "<style scoped>\n",
       "    .dataframe tbody tr th:only-of-type {\n",
       "        vertical-align: middle;\n",
       "    }\n",
       "\n",
       "    .dataframe tbody tr th {\n",
       "        vertical-align: top;\n",
       "    }\n",
       "\n",
       "    .dataframe thead th {\n",
       "        text-align: right;\n",
       "    }\n",
       "</style>\n",
       "<table border=\"1\" class=\"dataframe\">\n",
       "  <thead>\n",
       "    <tr style=\"text-align: right;\">\n",
       "      <th></th>\n",
       "      <th>episode_number</th>\n",
       "      <th>startup_number</th>\n",
       "      <th>deal_offered</th>\n",
       "      <th>startup_ask_amount_lakhs</th>\n",
       "      <th>startup_ask_percentage</th>\n",
       "      <th>startup_ask_valuation</th>\n",
       "      <th>deal_amount_lakhs</th>\n",
       "      <th>deal_equity</th>\n",
       "      <th>deal_valuation</th>\n",
       "      <th>loan_element_present</th>\n",
       "      <th>...</th>\n",
       "      <th>ghazal_invested</th>\n",
       "      <th>namita_present</th>\n",
       "      <th>namita_invested</th>\n",
       "      <th>peyush_present</th>\n",
       "      <th>peyush_invested</th>\n",
       "      <th>vineeta_present</th>\n",
       "      <th>vineeta_invested</th>\n",
       "      <th>sharks_offering</th>\n",
       "      <th>amount_per_shark</th>\n",
       "      <th>equity_per_shark</th>\n",
       "    </tr>\n",
       "  </thead>\n",
       "  <tbody>\n",
       "    <tr>\n",
       "      <th>count</th>\n",
       "      <td>121.000000</td>\n",
       "      <td>121.000000</td>\n",
       "      <td>121.000000</td>\n",
       "      <td>121.000000</td>\n",
       "      <td>121.000000</td>\n",
       "      <td>121.000000</td>\n",
       "      <td>121.000000</td>\n",
       "      <td>121.000000</td>\n",
       "      <td>121.000000</td>\n",
       "      <td>121.00000</td>\n",
       "      <td>...</td>\n",
       "      <td>121.000000</td>\n",
       "      <td>121.000000</td>\n",
       "      <td>121.000000</td>\n",
       "      <td>121.000000</td>\n",
       "      <td>121.000000</td>\n",
       "      <td>121.000000</td>\n",
       "      <td>121.000000</td>\n",
       "      <td>121.000000</td>\n",
       "      <td>121.000000</td>\n",
       "      <td>121.000000</td>\n",
       "    </tr>\n",
       "    <tr>\n",
       "      <th>mean</th>\n",
       "      <td>19.305785</td>\n",
       "      <td>61.000000</td>\n",
       "      <td>0.561983</td>\n",
       "      <td>312.338851</td>\n",
       "      <td>5.083306</td>\n",
       "      <td>4230.182727</td>\n",
       "      <td>31.925629</td>\n",
       "      <td>8.799421</td>\n",
       "      <td>473.770826</td>\n",
       "      <td>0.07438</td>\n",
       "      <td>...</td>\n",
       "      <td>0.057851</td>\n",
       "      <td>0.909091</td>\n",
       "      <td>0.198347</td>\n",
       "      <td>0.760331</td>\n",
       "      <td>0.231405</td>\n",
       "      <td>0.578512</td>\n",
       "      <td>0.132231</td>\n",
       "      <td>1.231405</td>\n",
       "      <td>18.004134</td>\n",
       "      <td>5.448595</td>\n",
       "    </tr>\n",
       "    <tr>\n",
       "      <th>std</th>\n",
       "      <td>10.375326</td>\n",
       "      <td>35.073732</td>\n",
       "      <td>0.498206</td>\n",
       "      <td>2721.640471</td>\n",
       "      <td>3.882554</td>\n",
       "      <td>12329.894575</td>\n",
       "      <td>36.847011</td>\n",
       "      <td>12.948175</td>\n",
       "      <td>925.693471</td>\n",
       "      <td>0.26348</td>\n",
       "      <td>...</td>\n",
       "      <td>0.234433</td>\n",
       "      <td>0.288675</td>\n",
       "      <td>0.400413</td>\n",
       "      <td>0.428657</td>\n",
       "      <td>0.423484</td>\n",
       "      <td>0.495851</td>\n",
       "      <td>0.340151</td>\n",
       "      <td>1.406890</td>\n",
       "      <td>23.512490</td>\n",
       "      <td>10.651783</td>\n",
       "    </tr>\n",
       "    <tr>\n",
       "      <th>min</th>\n",
       "      <td>1.000000</td>\n",
       "      <td>1.000000</td>\n",
       "      <td>0.000000</td>\n",
       "      <td>0.001010</td>\n",
       "      <td>0.250000</td>\n",
       "      <td>0.010000</td>\n",
       "      <td>0.000000</td>\n",
       "      <td>0.000000</td>\n",
       "      <td>0.000000</td>\n",
       "      <td>0.00000</td>\n",
       "      <td>...</td>\n",
       "      <td>0.000000</td>\n",
       "      <td>0.000000</td>\n",
       "      <td>0.000000</td>\n",
       "      <td>0.000000</td>\n",
       "      <td>0.000000</td>\n",
       "      <td>0.000000</td>\n",
       "      <td>0.000000</td>\n",
       "      <td>0.000000</td>\n",
       "      <td>0.000000</td>\n",
       "      <td>0.000000</td>\n",
       "    </tr>\n",
       "    <tr>\n",
       "      <th>25%</th>\n",
       "      <td>11.000000</td>\n",
       "      <td>31.000000</td>\n",
       "      <td>0.000000</td>\n",
       "      <td>45.000000</td>\n",
       "      <td>2.000000</td>\n",
       "      <td>666.670000</td>\n",
       "      <td>0.000000</td>\n",
       "      <td>0.000000</td>\n",
       "      <td>0.000000</td>\n",
       "      <td>0.00000</td>\n",
       "      <td>...</td>\n",
       "      <td>0.000000</td>\n",
       "      <td>1.000000</td>\n",
       "      <td>0.000000</td>\n",
       "      <td>1.000000</td>\n",
       "      <td>0.000000</td>\n",
       "      <td>0.000000</td>\n",
       "      <td>0.000000</td>\n",
       "      <td>0.000000</td>\n",
       "      <td>0.000000</td>\n",
       "      <td>0.000000</td>\n",
       "    </tr>\n",
       "    <tr>\n",
       "      <th>50%</th>\n",
       "      <td>19.000000</td>\n",
       "      <td>61.000000</td>\n",
       "      <td>1.000000</td>\n",
       "      <td>50.000000</td>\n",
       "      <td>5.000000</td>\n",
       "      <td>1333.330000</td>\n",
       "      <td>21.000000</td>\n",
       "      <td>3.000000</td>\n",
       "      <td>100.000000</td>\n",
       "      <td>0.00000</td>\n",
       "      <td>...</td>\n",
       "      <td>0.000000</td>\n",
       "      <td>1.000000</td>\n",
       "      <td>0.000000</td>\n",
       "      <td>1.000000</td>\n",
       "      <td>0.000000</td>\n",
       "      <td>1.000000</td>\n",
       "      <td>0.000000</td>\n",
       "      <td>1.000000</td>\n",
       "      <td>10.000000</td>\n",
       "      <td>1.250000</td>\n",
       "    </tr>\n",
       "    <tr>\n",
       "      <th>75%</th>\n",
       "      <td>28.000000</td>\n",
       "      <td>91.000000</td>\n",
       "      <td>1.000000</td>\n",
       "      <td>80.000000</td>\n",
       "      <td>7.000000</td>\n",
       "      <td>3000.000000</td>\n",
       "      <td>50.000000</td>\n",
       "      <td>15.000000</td>\n",
       "      <td>500.000000</td>\n",
       "      <td>0.00000</td>\n",
       "      <td>...</td>\n",
       "      <td>0.000000</td>\n",
       "      <td>1.000000</td>\n",
       "      <td>0.000000</td>\n",
       "      <td>1.000000</td>\n",
       "      <td>0.000000</td>\n",
       "      <td>1.000000</td>\n",
       "      <td>0.000000</td>\n",
       "      <td>2.000000</td>\n",
       "      <td>25.000000</td>\n",
       "      <td>6.000000</td>\n",
       "    </tr>\n",
       "    <tr>\n",
       "      <th>max</th>\n",
       "      <td>36.000000</td>\n",
       "      <td>121.000000</td>\n",
       "      <td>1.000000</td>\n",
       "      <td>30000.000000</td>\n",
       "      <td>25.000000</td>\n",
       "      <td>120000.000000</td>\n",
       "      <td>150.000000</td>\n",
       "      <td>75.000000</td>\n",
       "      <td>6666.670000</td>\n",
       "      <td>1.00000</td>\n",
       "      <td>...</td>\n",
       "      <td>1.000000</td>\n",
       "      <td>1.000000</td>\n",
       "      <td>1.000000</td>\n",
       "      <td>1.000000</td>\n",
       "      <td>1.000000</td>\n",
       "      <td>1.000000</td>\n",
       "      <td>1.000000</td>\n",
       "      <td>5.000000</td>\n",
       "      <td>100.000000</td>\n",
       "      <td>75.000000</td>\n",
       "    </tr>\n",
       "  </tbody>\n",
       "</table>\n",
       "<p>8 rows × 30 columns</p>\n",
       "</div>"
      ],
      "text/plain": [
       "       episode_number  startup_number  deal_offered  startup_ask_amount_lakhs  \\\n",
       "count      121.000000      121.000000    121.000000                121.000000   \n",
       "mean        19.305785       61.000000      0.561983                312.338851   \n",
       "std         10.375326       35.073732      0.498206               2721.640471   \n",
       "min          1.000000        1.000000      0.000000                  0.001010   \n",
       "25%         11.000000       31.000000      0.000000                 45.000000   \n",
       "50%         19.000000       61.000000      1.000000                 50.000000   \n",
       "75%         28.000000       91.000000      1.000000                 80.000000   \n",
       "max         36.000000      121.000000      1.000000              30000.000000   \n",
       "\n",
       "       startup_ask_percentage  startup_ask_valuation  deal_amount_lakhs  \\\n",
       "count              121.000000             121.000000         121.000000   \n",
       "mean                 5.083306            4230.182727          31.925629   \n",
       "std                  3.882554           12329.894575          36.847011   \n",
       "min                  0.250000               0.010000           0.000000   \n",
       "25%                  2.000000             666.670000           0.000000   \n",
       "50%                  5.000000            1333.330000          21.000000   \n",
       "75%                  7.000000            3000.000000          50.000000   \n",
       "max                 25.000000          120000.000000         150.000000   \n",
       "\n",
       "       deal_equity  deal_valuation  loan_element_present  ...  \\\n",
       "count   121.000000      121.000000             121.00000  ...   \n",
       "mean      8.799421      473.770826               0.07438  ...   \n",
       "std      12.948175      925.693471               0.26348  ...   \n",
       "min       0.000000        0.000000               0.00000  ...   \n",
       "25%       0.000000        0.000000               0.00000  ...   \n",
       "50%       3.000000      100.000000               0.00000  ...   \n",
       "75%      15.000000      500.000000               0.00000  ...   \n",
       "max      75.000000     6666.670000               1.00000  ...   \n",
       "\n",
       "       ghazal_invested  namita_present  namita_invested  peyush_present  \\\n",
       "count       121.000000      121.000000       121.000000      121.000000   \n",
       "mean          0.057851        0.909091         0.198347        0.760331   \n",
       "std           0.234433        0.288675         0.400413        0.428657   \n",
       "min           0.000000        0.000000         0.000000        0.000000   \n",
       "25%           0.000000        1.000000         0.000000        1.000000   \n",
       "50%           0.000000        1.000000         0.000000        1.000000   \n",
       "75%           0.000000        1.000000         0.000000        1.000000   \n",
       "max           1.000000        1.000000         1.000000        1.000000   \n",
       "\n",
       "       peyush_invested  vineeta_present  vineeta_invested  sharks_offering  \\\n",
       "count       121.000000       121.000000        121.000000       121.000000   \n",
       "mean          0.231405         0.578512          0.132231         1.231405   \n",
       "std           0.423484         0.495851          0.340151         1.406890   \n",
       "min           0.000000         0.000000          0.000000         0.000000   \n",
       "25%           0.000000         0.000000          0.000000         0.000000   \n",
       "50%           0.000000         1.000000          0.000000         1.000000   \n",
       "75%           0.000000         1.000000          0.000000         2.000000   \n",
       "max           1.000000         1.000000          1.000000         5.000000   \n",
       "\n",
       "       amount_per_shark  equity_per_shark  \n",
       "count        121.000000        121.000000  \n",
       "mean          18.004134          5.448595  \n",
       "std           23.512490         10.651783  \n",
       "min            0.000000          0.000000  \n",
       "25%            0.000000          0.000000  \n",
       "50%           10.000000          1.250000  \n",
       "75%           25.000000          6.000000  \n",
       "max          100.000000         75.000000  \n",
       "\n",
       "[8 rows x 30 columns]"
      ]
     },
     "execution_count": 8,
     "metadata": {},
     "output_type": "execute_result"
    }
   ],
   "source": [
    "data.describe()"
   ]
  },
  {
   "cell_type": "markdown",
   "id": "4eb5f801",
   "metadata": {},
   "source": [
    "finding null values in dataset = 0"
   ]
  },
  {
   "cell_type": "code",
   "execution_count": 9,
   "id": "74038474",
   "metadata": {},
   "outputs": [
    {
     "data": {
      "text/plain": [
       "episode_number              0\n",
       "startup_number              0\n",
       "brand_name                  0\n",
       "description                 0\n",
       "deal_offered                0\n",
       "startup_ask_amount_lakhs    0\n",
       "startup_ask_percentage      0\n",
       "startup_ask_valuation       0\n",
       "deal_amount_lakhs           0\n",
       "deal_equity                 0\n",
       "deal_valuation              0\n",
       "loan_element_present        0\n",
       "loan_amount                 0\n",
       "rannvijay_present           0\n",
       "abish_present               0\n",
       "aman_present                0\n",
       "aman_invested               0\n",
       "anupam_present              0\n",
       "anupam_invested             0\n",
       "ashneer_present             0\n",
       "ashneer_invested            0\n",
       "ghazal_present              0\n",
       "ghazal_invested             0\n",
       "namita_present              0\n",
       "namita_invested             0\n",
       "peyush_present              0\n",
       "peyush_invested             0\n",
       "vineeta_present             0\n",
       "vineeta_invested            0\n",
       "sharks_offering             0\n",
       "amount_per_shark            0\n",
       "equity_per_shark            0\n",
       "dtype: int64"
      ]
     },
     "execution_count": 9,
     "metadata": {},
     "output_type": "execute_result"
    }
   ],
   "source": [
    "\n",
    "data.isnull().sum()\n"
   ]
  },
  {
   "cell_type": "markdown",
   "id": "5d00f597",
   "metadata": {},
   "source": [
    "# No. deal offered to start-ups"
   ]
  },
  {
   "cell_type": "code",
   "execution_count": 10,
   "id": "71a000e1",
   "metadata": {},
   "outputs": [
    {
     "data": {
      "text/plain": [
       "1    68\n",
       "0    53\n",
       "Name: deal_offered, dtype: int64"
      ]
     },
     "execution_count": 10,
     "metadata": {},
     "output_type": "execute_result"
    }
   ],
   "source": [
    "data['deal_offered'].value_counts()"
   ]
  },
  {
   "cell_type": "markdown",
   "id": "7b3277f1",
   "metadata": {},
   "source": [
    "# No. of deals where investors were present"
   ]
  },
  {
   "cell_type": "code",
   "execution_count": 11,
   "id": "559ad8a3",
   "metadata": {},
   "outputs": [
    {
     "data": {
      "text/plain": [
       "1    102\n",
       "0     19\n",
       "Name: aman_present, dtype: int64"
      ]
     },
     "execution_count": 11,
     "metadata": {},
     "output_type": "execute_result"
    }
   ],
   "source": [
    "data['aman_present'].value_counts()"
   ]
  },
  {
   "cell_type": "code",
   "execution_count": 12,
   "id": "0e56d4eb",
   "metadata": {},
   "outputs": [
    {
     "data": {
      "text/plain": [
       "1    121\n",
       "Name: anupam_present, dtype: int64"
      ]
     },
     "execution_count": 12,
     "metadata": {},
     "output_type": "execute_result"
    }
   ],
   "source": [
    "data['anupam_present'].value_counts()"
   ]
  },
  {
   "cell_type": "code",
   "execution_count": 13,
   "id": "ee0fed2b",
   "metadata": {},
   "outputs": [
    {
     "data": {
      "text/plain": [
       "1    98\n",
       "0    23\n",
       "Name: ashneer_present, dtype: int64"
      ]
     },
     "execution_count": 13,
     "metadata": {},
     "output_type": "execute_result"
    }
   ],
   "source": [
    "data['ashneer_present'].value_counts()"
   ]
  },
  {
   "cell_type": "code",
   "execution_count": 14,
   "id": "8edbc4cc",
   "metadata": {},
   "outputs": [
    {
     "data": {
      "text/plain": [
       "0    95\n",
       "1    26\n",
       "Name: ghazal_present, dtype: int64"
      ]
     },
     "execution_count": 14,
     "metadata": {},
     "output_type": "execute_result"
    }
   ],
   "source": [
    "data['ghazal_present'].value_counts()"
   ]
  },
  {
   "cell_type": "code",
   "execution_count": 15,
   "id": "4e9793eb",
   "metadata": {},
   "outputs": [
    {
     "data": {
      "text/plain": [
       "1    110\n",
       "0     11\n",
       "Name: namita_present, dtype: int64"
      ]
     },
     "execution_count": 15,
     "metadata": {},
     "output_type": "execute_result"
    }
   ],
   "source": [
    "data['namita_present'].value_counts()"
   ]
  },
  {
   "cell_type": "code",
   "execution_count": 16,
   "id": "2a88d366",
   "metadata": {},
   "outputs": [
    {
     "data": {
      "text/plain": [
       "1    92\n",
       "0    29\n",
       "Name: peyush_present, dtype: int64"
      ]
     },
     "execution_count": 16,
     "metadata": {},
     "output_type": "execute_result"
    }
   ],
   "source": [
    "data['peyush_present'].value_counts()"
   ]
  },
  {
   "cell_type": "code",
   "execution_count": 17,
   "id": "1656ad06",
   "metadata": {},
   "outputs": [
    {
     "data": {
      "text/plain": [
       "1    70\n",
       "0    51\n",
       "Name: vineeta_present, dtype: int64"
      ]
     },
     "execution_count": 17,
     "metadata": {},
     "output_type": "execute_result"
    }
   ],
   "source": [
    "data['vineeta_present'].value_counts()"
   ]
  },
  {
   "cell_type": "code",
   "execution_count": 18,
   "id": "5d8bf588",
   "metadata": {},
   "outputs": [],
   "source": [
    "aman_present = len(data[data.aman_present == 1])               \n",
    "anupam_present = len(data[data.anupam_present == 1])              \n",
    "ashneer_present = len(data[data.ashneer_present == 1])         \n",
    "ghazal_present = len(data[data.ghazal_present == 1])            \n",
    "namita_present = len(data[data.namita_present == 1])           \n",
    "peyush_present = len(data[data.peyush_present == 1])           \n",
    "vineeta_present = len(data[data.vineeta_present == 1])           "
   ]
  },
  {
   "cell_type": "markdown",
   "id": "12e94c4e",
   "metadata": {},
   "source": [
    "Bar plot on no. of deals where candidate were present"
   ]
  },
  {
   "cell_type": "code",
   "execution_count": 20,
   "id": "c7cf0cad",
   "metadata": {},
   "outputs": [
    {
     "data": {
      "image/png": "[encoded data removed]",
      "text/plain": [
       "<Figure size 720x360 with 1 Axes>"
      ]
     },
     "metadata": {
      "needs_background": "light"
     },
     "output_type": "display_data"
    }
   ],
   "source": [
    "fig = plt.figure(figsize =(10, 5))\n",
    "present = [aman_present,anupam_present,ashneer_present,ghazal_present,namita_present,peyush_present,vineeta_present]\n",
    "names= ['Aman','Anupam','Ashneer', 'Ghazal','Namita', 'peyush','vineeta' ]\n",
    "plt.bar(names,present,color='maroon',width=0.4)\n",
    "plt.xlabel(\"Candidate Name\")\n",
    "plt.ylabel(\"No. of deals Candidate were Present\")\n",
    "plt.title(\"No. of deals Candidate Present vs Name\")\n",
    "plt.show()"
   ]
  },
  {
   "cell_type": "markdown",
   "id": "c9c0430f",
   "metadata": {},
   "source": [
    "pie chart on percentage where candidate were present"
   ]
  },
  {
   "cell_type": "code",
   "execution_count": 22,
   "id": "8421581d",
   "metadata": {},
   "outputs": [
    {
     "data": {
      "image/png": "[encoded data removed]",
      "text/plain": [
       "<Figure size 432x288 with 1 Axes>"
      ]
     },
     "metadata": {},
     "output_type": "display_data"
    }
   ],
   "source": [
    "plt.pie(present, labels = names, radius =2.0, autopct ='%0.1f%%')\n",
    "plt.suptitle('percentage of candidate present', x=0.55,y=1.15, color='red')\n",
    "plt.show()"
   ]
  },
  {
   "cell_type": "markdown",
   "id": "22d6f2ab",
   "metadata": {},
   "source": [
    "# No. of deals where invetsor invested"
   ]
  },
  {
   "cell_type": "code",
   "execution_count": 23,
   "id": "f7566ca1",
   "metadata": {},
   "outputs": [
    {
     "data": {
      "text/plain": [
       "0    92\n",
       "1    29\n",
       "Name: aman_invested, dtype: int64"
      ]
     },
     "execution_count": 23,
     "metadata": {},
     "output_type": "execute_result"
    }
   ],
   "source": [
    "data['aman_invested'].value_counts()"
   ]
  },
  {
   "cell_type": "code",
   "execution_count": 24,
   "id": "b52a4f62",
   "metadata": {},
   "outputs": [
    {
     "data": {
      "text/plain": [
       "0    97\n",
       "1    24\n",
       "Name: anupam_invested, dtype: int64"
      ]
     },
     "execution_count": 24,
     "metadata": {},
     "output_type": "execute_result"
    }
   ],
   "source": [
    "data['anupam_invested'].value_counts()"
   ]
  },
  {
   "cell_type": "code",
   "execution_count": 25,
   "id": "07d2fc54",
   "metadata": {},
   "outputs": [
    {
     "data": {
      "text/plain": [
       "0    100\n",
       "1     21\n",
       "Name: ashneer_invested, dtype: int64"
      ]
     },
     "execution_count": 25,
     "metadata": {},
     "output_type": "execute_result"
    }
   ],
   "source": [
    "data['ashneer_invested'].value_counts()"
   ]
  },
  {
   "cell_type": "code",
   "execution_count": 26,
   "id": "8073821f",
   "metadata": {},
   "outputs": [
    {
     "data": {
      "text/plain": [
       "0    114\n",
       "1      7\n",
       "Name: ghazal_invested, dtype: int64"
      ]
     },
     "execution_count": 26,
     "metadata": {},
     "output_type": "execute_result"
    }
   ],
   "source": [
    "data['ghazal_invested'].value_counts()"
   ]
  },
  {
   "cell_type": "code",
   "execution_count": 27,
   "id": "65205833",
   "metadata": {},
   "outputs": [
    {
     "data": {
      "text/plain": [
       "0    97\n",
       "1    24\n",
       "Name: namita_invested, dtype: int64"
      ]
     },
     "execution_count": 27,
     "metadata": {},
     "output_type": "execute_result"
    }
   ],
   "source": [
    "data['namita_invested'].value_counts()"
   ]
  },
  {
   "cell_type": "code",
   "execution_count": 28,
   "id": "cdf36951",
   "metadata": {},
   "outputs": [
    {
     "data": {
      "text/plain": [
       "0    93\n",
       "1    28\n",
       "Name: peyush_invested, dtype: int64"
      ]
     },
     "execution_count": 28,
     "metadata": {},
     "output_type": "execute_result"
    }
   ],
   "source": [
    "data['peyush_invested'].value_counts()"
   ]
  },
  {
   "cell_type": "code",
   "execution_count": 29,
   "id": "86558dc8",
   "metadata": {},
   "outputs": [
    {
     "data": {
      "text/plain": [
       "0    105\n",
       "1     16\n",
       "Name: vineeta_invested, dtype: int64"
      ]
     },
     "execution_count": 29,
     "metadata": {},
     "output_type": "execute_result"
    }
   ],
   "source": [
    "data['vineeta_invested'].value_counts()"
   ]
  },
  {
   "cell_type": "code",
   "execution_count": 30,
   "id": "045621db",
   "metadata": {},
   "outputs": [],
   "source": [
    "aman_invested = len(data[data.aman_invested == 1])               \n",
    "anupam_invested = len(data[data.anupam_invested == 1])              \n",
    "ashneer_invested = len(data[data.ashneer_invested == 1])         \n",
    "ghazal_invested = len(data[data.ghazal_invested == 1])            \n",
    "namita_invested = len(data[data.namita_invested == 1])           \n",
    "peyush_invested = len(data[data.peyush_invested == 1])           \n",
    "vineeta_invested = len(data[data.vineeta_invested == 1]) "
   ]
  },
  {
   "cell_type": "markdown",
   "id": "16b89dc9",
   "metadata": {},
   "source": [
    "bar plot on no. of deals investor made"
   ]
  },
  {
   "cell_type": "code",
   "execution_count": 32,
   "id": "1c246cd1",
   "metadata": {},
   "outputs": [
    {
     "data": {
      "image/png": "[encoded data removed]",
      "text/plain": [
       "<Figure size 720x360 with 1 Axes>"
      ]
     },
     "metadata": {
      "needs_background": "light"
     },
     "output_type": "display_data"
    }
   ],
   "source": [
    "fig = plt.figure(figsize =(10, 5))\n",
    "invested = [aman_invested,anupam_invested,ashneer_invested,ghazal_invested,namita_invested,peyush_invested,vineeta_invested]\n",
    "names= ['Aman','Anupam','Ashneer', 'Ghazal','Namita', 'peyush','vineeta' ]\n",
    "plt.bar(names,present,color='green',width=0.4)\n",
    "plt.xlabel(\"Candidate Name\")\n",
    "plt.ylabel(\"No. of deals Candidate invested\")\n",
    "plt.title(\"No. of deals Candidate invested vs Name\")\n",
    "plt.show()"
   ]
  },
  {
   "cell_type": "markdown",
   "id": "91252121",
   "metadata": {},
   "source": [
    "pie chart on percentage of investor invested"
   ]
  },
  {
   "cell_type": "code",
   "execution_count": 34,
   "id": "363d7c8b",
   "metadata": {},
   "outputs": [
    {
     "data": {
      "image/png": "[encoded data removed]",
      "text/plain": [
       "<Figure size 432x288 with 1 Axes>"
      ]
     },
     "metadata": {},
     "output_type": "display_data"
    }
   ],
   "source": [
    "plt.pie(invested, labels = names, radius =2.0, autopct ='%0.1f%%',\n",
    "        explode=[0.25,0.25,0.25,0.25,0.25,0.25,0.25])\n",
    "plt.suptitle('percentage of candidate invested', x=0.55,y=1.15, color='red')\n",
    "plt.show()"
   ]
  },
  {
   "cell_type": "markdown",
   "id": "38e67830",
   "metadata": {},
   "source": [
    "Percent of investments\n"
   ]
  },
  {
   "cell_type": "code",
   "execution_count": 35,
   "id": "d645b3f6",
   "metadata": {},
   "outputs": [],
   "source": [
    "aman_percent = (aman_invested/aman_present)*100\n",
    "anupam_percent = (anupam_invested/anupam_present)*100\n",
    "ashneer_percent = (ashneer_invested/ashneer_present)*100\n",
    "ghazal_percent = (ghazal_invested/ghazal_present)*100\n",
    "namita_percent = (namita_invested/namita_present)*100\n",
    "peyush_percent = (peyush_invested/peyush_present)*100\n",
    "vineeta_percent = (vineeta_invested/vineeta_present)*100"
   ]
  },
  {
   "cell_type": "code",
   "execution_count": 36,
   "id": "61a71fbd",
   "metadata": {},
   "outputs": [
    {
     "data": {
      "image/png": "[encoded data removed]",
      "text/plain": [
       "<Figure size 720x360 with 1 Axes>"
      ]
     },
     "metadata": {
      "needs_background": "light"
     },
     "output_type": "display_data"
    }
   ],
   "source": [
    "fig = plt.figure(figsize=(10,5))\n",
    "percentage = [aman_percent, anupam_percent, ashneer_percent, ghazal_percent, namita_percent, peyush_percent, vineeta_percent]\n",
    "names = ['Aman','Anupam','Ashneer','Ghazal','Namita','Peyush','Vineeta']\n",
    "plt.bar(names, percentage, color='blue',width=0.4)\n",
    "plt.xlabel(\"Candidate Name\")\n",
    "plt.ylabel(\"Candidate Invested - Percentage\")\n",
    "plt.title(\"Candidate Invested - Percentage vs Name\")\n",
    "plt.show()"
   ]
  },
  {
   "cell_type": "code",
   "execution_count": 37,
   "id": "7de58481",
   "metadata": {},
   "outputs": [
    {
     "data": {
      "text/plain": [
       "<function matplotlib.pyplot.show(close=None, block=None)>"
      ]
     },
     "execution_count": 37,
     "metadata": {},
     "output_type": "execute_result"
    },
    {
     "data": {
      "image/png": "[encoded data removed]",
      "text/plain": [
       "<Figure size 432x288 with 1 Axes>"
      ]
     },
     "metadata": {},
     "output_type": "display_data"
    }
   ],
   "source": [
    "plt.pie(percentage, labels = names, radius =2.0, autopct ='%0.1f%%',\n",
    "        explode=[0.25,0.25,0.25,0.25,0.25,0.25,0.25])\n",
    "plt.show"
   ]
  }
 ],
 "metadata": {
  "kernelspec": {
   "display_name": "Python 3.9.13 64-bit (windows store)",
   "language": "python",
   "name": "python3"
  },
  "language_info": {
   "codemirror_mode": {
    "name": "ipython",
    "version": 3
   },
   "file_extension": ".py",
   "mimetype": "text/x-python",
   "name": "python",
   "nbconvert_exporter": "python",
   "pygments_lexer": "ipython3",
   "version": "3.9.13"
  },
  "vscode": {
   "interpreter": {
    "hash": "f5b36eb6063c5de5f4a5f44722e11565d0762fe02341764f2fdf338c94107080"
   }
  }
 },
 "nbformat": 4,
 "nbformat_minor": 5
}
